{
 "cells": [
  {
   "cell_type": "code",
   "execution_count": 3,
   "metadata": {},
   "outputs": [
    {
     "name": "stdout",
     "output_type": "stream",
     "text": [
      "The autoreload extension is already loaded. To reload it, use:\n",
      "  %reload_ext autoreload\n"
     ]
    }
   ],
   "source": [
    "### header ###\n",
    "__author__ = \"Jenhan Tao\"\n",
    "__license__ = \"MIT\"\n",
    "__email__ = \"jenhantao@gmail.com\"\n",
    "\n",
    "### imports ###\n",
    "import sys # system functions\n",
    "import os # os functions\n",
    "import pandas as pd # for reading data\n",
    "import numpy as np # for numeric operations\n",
    "import matplotlib.pyplot as plt \n",
    "import matplotlib # for visualizing data\n",
    "import scipy # scientific computing\n",
    "import seaborn as sns # for pretty plots\n",
    "\n",
    "### notebook specific configuration ###\n",
    "%matplotlib inline\n",
    "matplotlib.rcParams['savefig.dpi'] = 200\n",
    "sns.set_context('notebook')\n",
    "%load_ext autoreload\n",
    "%autoreload 2"
   ]
  },
  {
   "cell_type": "code",
   "execution_count": 7,
   "metadata": {},
   "outputs": [],
   "source": [
    "# it's bad practice to work within a github repo and also bad practice to have data in a github repo\n",
    "# but it's convenient\n",
    "# change working directory to github repo\n",
    "working_directory = '/gpfs/data01/glasslab/home/jtao/side_projects/fantasy_football_genetic_algorithm_draft/'\n",
    "os.chdir(working_directory)"
   ]
  },
  {
   "cell_type": "markdown",
   "metadata": {},
   "source": [
    "### Read in rankings"
   ]
  },
  {
   "cell_type": "code",
   "execution_count": 17,
   "metadata": {},
   "outputs": [],
   "source": [
    "# year_rankFrame_dict = {} # {year:DataFrame}\n",
    "# for f in os.listdir(working_directory + '/rankings_ffc_standard'):\n",
    "#     json_path = working_directory + '/rankings_ffc_standard/' + f\n",
    "#     ranks = pd.read_json(json_path, typ='series')\n",
    "#     adp_list = [x['adp'] for x in ranks['players']]\n",
    "#     name_list = [x['name'] for x in ranks['players']]\n",
    "#     position_list = [x['position'] for x in ranks['players']]\n",
    "    \n",
    "#     year = f.split('_')[-1].replace('.json','')\n",
    "    \n",
    "#     rankFrame = pd.DataFrame({'ADP':adp_list, 'Position':position_list, 'Name':name_list})\n",
    "#     year_rankFrame_dict[year] = rankFrame\n",
    "    \n"
   ]
  },
  {
   "cell_type": "code",
   "execution_count": 142,
   "metadata": {},
   "outputs": [],
   "source": [
    "year_rankFrame_dict = {} # {year:DataFrame}\n",
    "for f in os.listdir(working_directory + '/rankings_mfl_standard'):\n",
    "    csv_path = working_directory + '/rankings_mfl_standard/' + f\n",
    "    rankFrame = pd.read_csv(csv_path, sep=',')\n",
    "    rankFrame['POSITION'] = [x.split(' ')[-1].replace('*','') for x in rankFrame['PLAYER'].values]\n",
    "    rankFrame['NAME'] = [' '.join(x.split(', ')[1].split(' ')[:-2]) + ' ' + x.split(', ')[0].replace(',','') for x in rankFrame['PLAYER'].values]\n",
    "    year = f.split('_')[-1].replace('.csv','')\n",
    "    \n",
    "    year_rankFrame_dict[year] = rankFrame\n",
    "    \n"
   ]
  },
  {
   "cell_type": "code",
   "execution_count": 122,
   "metadata": {},
   "outputs": [
    {
     "data": {
      "text/html": [
       "<div>\n",
       "<style>\n",
       "    .dataframe thead tr:only-child th {\n",
       "        text-align: right;\n",
       "    }\n",
       "\n",
       "    .dataframe thead th {\n",
       "        text-align: left;\n",
       "    }\n",
       "\n",
       "    .dataframe tbody tr th {\n",
       "        vertical-align: top;\n",
       "    }\n",
       "</style>\n",
       "<table border=\"1\" class=\"dataframe\">\n",
       "  <thead>\n",
       "    <tr style=\"text-align: right;\">\n",
       "      <th></th>\n",
       "      <th>#</th>\n",
       "      <th>PICK</th>\n",
       "      <th>PLAYER</th>\n",
       "      <th>AVG. PICK</th>\n",
       "      <th>MIN. PICK</th>\n",
       "      <th>MAX. PICK</th>\n",
       "      <th># DRAFTS SELECTED IN</th>\n",
       "      <th>POSITION</th>\n",
       "      <th>NAME</th>\n",
       "    </tr>\n",
       "  </thead>\n",
       "  <tbody>\n",
       "    <tr>\n",
       "      <th>0</th>\n",
       "      <td>1</td>\n",
       "      <td>1.01</td>\n",
       "      <td>Foster, Arian HOU RB</td>\n",
       "      <td>2.35</td>\n",
       "      <td>1</td>\n",
       "      <td>110</td>\n",
       "      <td>954</td>\n",
       "      <td>RB</td>\n",
       "      <td>Arian Foster</td>\n",
       "    </tr>\n",
       "    <tr>\n",
       "      <th>1</th>\n",
       "      <td>2</td>\n",
       "      <td>1.02</td>\n",
       "      <td>Rodgers, Aaron GBP QB</td>\n",
       "      <td>2.65</td>\n",
       "      <td>1</td>\n",
       "      <td>109</td>\n",
       "      <td>930</td>\n",
       "      <td>QB</td>\n",
       "      <td>Aaron Rodgers</td>\n",
       "    </tr>\n",
       "    <tr>\n",
       "      <th>2</th>\n",
       "      <td>3</td>\n",
       "      <td>1.03</td>\n",
       "      <td>Rice, Ray BAL RB</td>\n",
       "      <td>3.92</td>\n",
       "      <td>1</td>\n",
       "      <td>111</td>\n",
       "      <td>954</td>\n",
       "      <td>RB</td>\n",
       "      <td>Ray Rice</td>\n",
       "    </tr>\n",
       "    <tr>\n",
       "      <th>3</th>\n",
       "      <td>4</td>\n",
       "      <td>1.04</td>\n",
       "      <td>McCoy, LeSean PHI RB</td>\n",
       "      <td>4.84</td>\n",
       "      <td>1</td>\n",
       "      <td>113</td>\n",
       "      <td>953</td>\n",
       "      <td>RB</td>\n",
       "      <td>LeSean McCoy</td>\n",
       "    </tr>\n",
       "    <tr>\n",
       "      <th>4</th>\n",
       "      <td>5</td>\n",
       "      <td>1.05</td>\n",
       "      <td>Brady, Tom NEP QB</td>\n",
       "      <td>5.62</td>\n",
       "      <td>1</td>\n",
       "      <td>117</td>\n",
       "      <td>930</td>\n",
       "      <td>QB</td>\n",
       "      <td>Tom Brady</td>\n",
       "    </tr>\n",
       "  </tbody>\n",
       "</table>\n",
       "</div>"
      ],
      "text/plain": [
       "   #  PICK                 PLAYER  AVG. PICK  MIN. PICK  MAX. PICK  \\\n",
       "0  1  1.01   Foster, Arian HOU RB       2.35          1        110   \n",
       "1  2  1.02  Rodgers, Aaron GBP QB       2.65          1        109   \n",
       "2  3  1.03       Rice, Ray BAL RB       3.92          1        111   \n",
       "3  4  1.04   McCoy, LeSean PHI RB       4.84          1        113   \n",
       "4  5  1.05      Brady, Tom NEP QB       5.62          1        117   \n",
       "\n",
       "   # DRAFTS SELECTED IN POSITION           NAME  \n",
       "0                   954       RB   Arian Foster  \n",
       "1                   930       QB  Aaron Rodgers  \n",
       "2                   954       RB       Ray Rice  \n",
       "3                   953       RB   LeSean McCoy  \n",
       "4                   930       QB      Tom Brady  "
      ]
     },
     "execution_count": 122,
     "metadata": {},
     "output_type": "execute_result"
    }
   ],
   "source": [
    "rankFrame.head()"
   ]
  },
  {
   "cell_type": "markdown",
   "metadata": {},
   "source": [
    "### Read in season results"
   ]
  },
  {
   "cell_type": "code",
   "execution_count": 123,
   "metadata": {},
   "outputs": [],
   "source": [
    "year_scoreFrame_dict = {} # {year:DataFrame}\n",
    "for f in os.listdir(working_directory + '/scoring_standard'):\n",
    "    score_path = working_directory + '/scoring_standard/' + f\n",
    "    scoreFrame = pd.read_csv(score_path, sep=',')\n",
    "    year = f.split('_')[-1].replace('.csv','')\n",
    "    year_scoreFrame_dict[year] = scoreFrame\n",
    "    \n"
   ]
  },
  {
   "cell_type": "code",
   "execution_count": 124,
   "metadata": {},
   "outputs": [
    {
     "data": {
      "text/html": [
       "<div>\n",
       "<style>\n",
       "    .dataframe thead tr:only-child th {\n",
       "        text-align: right;\n",
       "    }\n",
       "\n",
       "    .dataframe thead th {\n",
       "        text-align: left;\n",
       "    }\n",
       "\n",
       "    .dataframe tbody tr th {\n",
       "        vertical-align: top;\n",
       "    }\n",
       "</style>\n",
       "<table border=\"1\" class=\"dataframe\">\n",
       "  <thead>\n",
       "    <tr style=\"text-align: right;\">\n",
       "      <th></th>\n",
       "      <th>Player</th>\n",
       "      <th>Points</th>\n",
       "    </tr>\n",
       "  </thead>\n",
       "  <tbody>\n",
       "    <tr>\n",
       "      <th>0</th>\n",
       "      <td>Stephen Gostkowski</td>\n",
       "      <td>159</td>\n",
       "    </tr>\n",
       "    <tr>\n",
       "      <th>1</th>\n",
       "      <td>Graham Gano</td>\n",
       "      <td>150</td>\n",
       "    </tr>\n",
       "    <tr>\n",
       "      <th>2</th>\n",
       "      <td>Blair Walsh</td>\n",
       "      <td>147</td>\n",
       "    </tr>\n",
       "    <tr>\n",
       "      <th>3</th>\n",
       "      <td>Robbie Gould</td>\n",
       "      <td>141</td>\n",
       "    </tr>\n",
       "    <tr>\n",
       "      <th>4</th>\n",
       "      <td>Josh Brown</td>\n",
       "      <td>140</td>\n",
       "    </tr>\n",
       "  </tbody>\n",
       "</table>\n",
       "</div>"
      ],
      "text/plain": [
       "               Player  Points\n",
       "0  Stephen Gostkowski     159\n",
       "1         Graham Gano     150\n",
       "2         Blair Walsh     147\n",
       "3        Robbie Gould     141\n",
       "4          Josh Brown     140"
      ]
     },
     "execution_count": 124,
     "metadata": {},
     "output_type": "execute_result"
    }
   ],
   "source": [
    "scoreFrame.head()"
   ]
  },
  {
   "cell_type": "markdown",
   "metadata": {},
   "source": [
    "### Create Players"
   ]
  },
  {
   "cell_type": "code",
   "execution_count": 125,
   "metadata": {},
   "outputs": [],
   "source": [
    "position_index_dict = dict(zip(sorted(rankFrame['POSITION'].unique()), \n",
    "                               range(len(rankFrame['POSITION'].unique()))))\n",
    "index_position_dict = dict(zip(range(len(rankFrame['POSITION'].unique())),\n",
    "                                sorted(rankFrame['POSITION'].unique()), \n",
    "                               ))"
   ]
  },
  {
   "cell_type": "code",
   "execution_count": 126,
   "metadata": {},
   "outputs": [
    {
     "data": {
      "text/plain": [
       "{'Def': 0, 'PK': 1, 'QB': 2, 'RB': 3, 'TE': 4, 'WR': 5}"
      ]
     },
     "execution_count": 126,
     "metadata": {},
     "output_type": "execute_result"
    }
   ],
   "source": [
    "position_index_dict # gives the position and the corresponding index"
   ]
  },
  {
   "cell_type": "code",
   "execution_count": 127,
   "metadata": {},
   "outputs": [
    {
     "data": {
      "text/plain": [
       "{0: 'Def', 1: 'PK', 2: 'QB', 3: 'RB', 4: 'TE', 5: 'WR'}"
      ]
     },
     "execution_count": 127,
     "metadata": {},
     "output_type": "execute_result"
    }
   ],
   "source": [
    "index_position_dict # gives the index and the corresponding index"
   ]
  },
  {
   "cell_type": "code",
   "execution_count": 128,
   "metadata": {},
   "outputs": [],
   "source": [
    "def create_new_players(num_players, num_rounds):\n",
    "    '''\n",
    "    inputs: number of players and rounds\n",
    "    outputs: list of fantasy players\n",
    "    '''\n",
    "    num_positions = 6 # number of positions\n",
    "    player_list = []\n",
    "    for player_number in range(num_players):\n",
    "        new_player = []\n",
    "        for round_number in range(num_rounds):\n",
    "            weights = np.random.random(num_positions) # initialize random weights\n",
    "            normed_weights = weights/np.sum(weights) # normalize so weights sum to 1\n",
    "            new_player.append(normed_weights)\n",
    "    \n",
    "        player_list.append((new_player))\n",
    "    return np.array(player_list)"
   ]
  },
  {
   "cell_type": "code",
   "execution_count": 130,
   "metadata": {},
   "outputs": [
    {
     "data": {
      "text/plain": [
       "6"
      ]
     },
     "execution_count": 130,
     "metadata": {},
     "output_type": "execute_result"
    }
   ],
   "source": [
    "len(rankFrame['POSITION'].unique()) # number of positions"
   ]
  },
  {
   "cell_type": "code",
   "execution_count": 40,
   "metadata": {},
   "outputs": [],
   "source": [
    "fantasy_players = create_new_players(12, 10)"
   ]
  },
  {
   "cell_type": "code",
   "execution_count": 41,
   "metadata": {},
   "outputs": [
    {
     "data": {
      "text/plain": [
       "(12, 10, 6)"
      ]
     },
     "execution_count": 41,
     "metadata": {},
     "output_type": "execute_result"
    }
   ],
   "source": [
    "fantasy_players.shape # first index gives the player\n",
    "                      # second index gives the round\n",
    "                      # third index gives the position \n"
   ]
  },
  {
   "cell_type": "code",
   "execution_count": null,
   "metadata": {},
   "outputs": [],
   "source": [
    "fantasy_players[0,0,0] #gives the importance for player 1 in the first round for a defense \n",
    "fantasy_players[0,0,1] #gives the importance for player 1 in the first round for a place kicker (PK)\n",
    "fantasy_players[8,3,2] #gives the importance for player 9 in the fourth round for a QB"
   ]
  },
  {
   "cell_type": "code",
   "execution_count": 53,
   "metadata": {},
   "outputs": [
    {
     "data": {
      "text/plain": [
       "(12, 10, 6)"
      ]
     },
     "execution_count": 53,
     "metadata": {},
     "output_type": "execute_result"
    }
   ],
   "source": [
    "fantasy_players.shape"
   ]
  },
  {
   "cell_type": "markdown",
   "metadata": {},
   "source": [
    "### Run Simulation"
   ]
  },
  {
   "cell_type": "code",
   "execution_count": 144,
   "metadata": {},
   "outputs": [],
   "source": [
    "rankFrame = year_rankFrame_dict['2017']\n",
    "\n",
    "scoreFrame = year_scoreFrame_dict['2017']"
   ]
  },
  {
   "cell_type": "code",
   "execution_count": 145,
   "metadata": {},
   "outputs": [
    {
     "data": {
      "text/plain": [
       "(364, 9)"
      ]
     },
     "execution_count": 145,
     "metadata": {},
     "output_type": "execute_result"
    }
   ],
   "source": [
    "rankFrame.shape"
   ]
  },
  {
   "cell_type": "code",
   "execution_count": 146,
   "metadata": {},
   "outputs": [
    {
     "data": {
      "text/plain": [
       "(461, 2)"
      ]
     },
     "execution_count": 146,
     "metadata": {},
     "output_type": "execute_result"
    }
   ],
   "source": [
    "scoreFrame.shape"
   ]
  },
  {
   "cell_type": "code",
   "execution_count": 147,
   "metadata": {},
   "outputs": [],
   "source": [
    "score_players = set (scoreFrame['Player'].values)"
   ]
  },
  {
   "cell_type": "code",
   "execution_count": 148,
   "metadata": {},
   "outputs": [],
   "source": [
    "rank_players = set(rankFrame['NAME'].values)"
   ]
  },
  {
   "cell_type": "code",
   "execution_count": 149,
   "metadata": {},
   "outputs": [
    {
     "data": {
      "text/plain": [
       "{'A.J. McCarron',\n",
       " 'Adam Humphries',\n",
       " 'Alan Cross',\n",
       " 'Albert Wilson',\n",
       " 'Aldrick Rosas',\n",
       " 'Alex Collins',\n",
       " 'Alfred Blue',\n",
       " 'Andre Ellington',\n",
       " 'Anthony Fasano',\n",
       " 'Anthony Sherman',\n",
       " 'Antony Auclair',\n",
       " 'Austin Davis',\n",
       " 'Austin Ekeler',\n",
       " 'Austin Traylor',\n",
       " 'Ben Koyack',\n",
       " 'Benjamin Watson',\n",
       " 'Bennie Fowler',\n",
       " 'Benny Cunningham',\n",
       " 'Blaine Gabbert',\n",
       " 'Blake Bell',\n",
       " 'Brad Nortman',\n",
       " 'Brandon Williams',\n",
       " 'Brent Celek',\n",
       " 'Brett Hundley',\n",
       " 'Brice Butler',\n",
       " 'Brock Osweiler',\n",
       " 'Bruce Ellington',\n",
       " 'Bryce Petty',\n",
       " 'C.J. Beathard',\n",
       " 'C.J. Uzomah',\n",
       " 'Cameron Artis-Payne',\n",
       " 'Case Keenum',\n",
       " 'Chad Henne',\n",
       " 'Chandler Catanzaro',\n",
       " 'Chase Daniel',\n",
       " 'Chris Johnson',\n",
       " 'Chris Jones',\n",
       " 'Chris Manhertz',\n",
       " 'Chris Moore',\n",
       " 'Clive Walford',\n",
       " 'Cody Latimer',\n",
       " 'Cody Parkey',\n",
       " 'Cole Hikutini',\n",
       " 'Connor Barth',\n",
       " 'Cooper Rush',\n",
       " 'Corey Clement',\n",
       " 'Corey Grant',\n",
       " 'Darrell Daniels',\n",
       " 'Darren Fells',\n",
       " 'David Fales',\n",
       " 'David Morgan',\n",
       " \"De'Anthony Thomas\",\n",
       " 'Demetrius Harris',\n",
       " 'Deonte Thompson',\n",
       " 'Derek Anderson',\n",
       " 'Detroit Lions',\n",
       " 'Dontrelle Inman',\n",
       " 'Drew Kaser',\n",
       " 'Drew Stanton',\n",
       " 'E.J. Manuel',\n",
       " 'Ed Dickson',\n",
       " 'Elijah McGuire',\n",
       " 'Elijhaa Penny',\n",
       " 'Emanuel Byrd',\n",
       " 'Eric Tomlinson',\n",
       " 'Garrett Celek',\n",
       " 'Geno Smith',\n",
       " 'Geoff Swaim',\n",
       " 'Giorgio Tavecchio',\n",
       " 'Ifeanyi Momah',\n",
       " 'Indianapolis Colts',\n",
       " 'J.D. McKissic',\n",
       " 'Jacob Hollister',\n",
       " 'Jacoby Brissett',\n",
       " 'Jake Elliott',\n",
       " 'Jake Rudock',\n",
       " 'James Hanna',\n",
       " \"James O'Shaughnessy\",\n",
       " 'Jaron Brown',\n",
       " 'Jason Myers',\n",
       " 'Javorius Allen',\n",
       " 'Jeff Heuerman',\n",
       " 'Jerell Adams',\n",
       " 'Jeremy Sprinkle',\n",
       " 'Jermaine Kearse',\n",
       " 'Joe Callahan',\n",
       " 'Joe Webb',\n",
       " 'Johnny Hekker',\n",
       " 'Johnny Holton',\n",
       " 'Jon Ryan',\n",
       " 'Josh Bellamy',\n",
       " 'Josh Hill',\n",
       " 'Justin Hardy',\n",
       " \"Ka'imi Fairbairn\",\n",
       " 'Kapri Bibbs',\n",
       " 'Kasey Redfern',\n",
       " 'Keelan Cole',\n",
       " 'Kellen Clemens',\n",
       " 'Kenjon Barner',\n",
       " 'Kerwynn Williams',\n",
       " 'Kevin Hogan',\n",
       " 'Kyle Juszczyk',\n",
       " 'Lachlan Edwards',\n",
       " 'Lance Kendricks',\n",
       " 'Landry Jones',\n",
       " 'Lee Smith',\n",
       " 'Levine Toilolo',\n",
       " 'Logan Thomas',\n",
       " 'Luke Stocker',\n",
       " 'Luke Willson',\n",
       " 'Malcolm Brown',\n",
       " 'Marcedes Lewis',\n",
       " 'Marquette King',\n",
       " 'Marshall Koehn',\n",
       " 'Matt Bosher',\n",
       " 'Matt Cassel',\n",
       " 'Matt Haack',\n",
       " 'Matt Moore',\n",
       " 'Maxx Williams',\n",
       " 'Michael Hoomanawanui',\n",
       " 'Michael Palardy',\n",
       " 'Michael Roberts',\n",
       " 'Mike Davis',\n",
       " 'Mike Nugent',\n",
       " 'Mike Tolbert',\n",
       " 'Nate Sudfeld',\n",
       " 'Nathan Peterman',\n",
       " 'New York Jets',\n",
       " 'Nick Boyle',\n",
       " 'Nick Foles',\n",
       " \"Nick O'Leary\",\n",
       " 'Nick Rose',\n",
       " 'Nick Vannett',\n",
       " 'Odell Beckham Jr.',\n",
       " 'Orleans Darkwa',\n",
       " 'Orson Charles',\n",
       " \"Pat O'Donnell\",\n",
       " 'Patrick Murray',\n",
       " 'Peyton Barber',\n",
       " 'Phillip Supernaw',\n",
       " 'Randall Telfer',\n",
       " 'Rashard Higgins',\n",
       " 'Rhett Ellison',\n",
       " 'Richard Rodgers',\n",
       " 'Ricky Seals-Jones',\n",
       " 'Rod Smith',\n",
       " 'Roger Lewis',\n",
       " 'Ross Travis',\n",
       " 'Ryan Fitzpatrick',\n",
       " 'Ryan Grant',\n",
       " 'Ryan Griffin',\n",
       " 'Ryan Hewitt',\n",
       " 'Ryan Mallett',\n",
       " 'Ryan Quigley',\n",
       " 'Sam Ficken',\n",
       " 'Sam Koch',\n",
       " 'San Francisco 49ers',\n",
       " 'Scott Tolzien',\n",
       " 'Sean Mannion',\n",
       " 'Sean McGrath',\n",
       " 'Seth Devalve',\n",
       " 'Seth Roberts',\n",
       " 'Stephen Anderson',\n",
       " 'Stephen Hauschka',\n",
       " 'Stevan Ridley',\n",
       " 'T.J. Yates',\n",
       " 'TJ Jones',\n",
       " 'Tavarres King',\n",
       " 'Taylor Heinicke',\n",
       " 'Teddy Bridgewater',\n",
       " 'Terron Ward',\n",
       " 'Tion Green',\n",
       " 'Tommy Bohanon',\n",
       " 'Travaris Cadet',\n",
       " 'Travis Coons',\n",
       " 'Trent Taylor',\n",
       " 'Trey Burton',\n",
       " 'Trey Edmunds',\n",
       " 'Troy Niklas',\n",
       " 'Tyler Bray',\n",
       " 'Tyler Kroft',\n",
       " 'Virgil Green',\n",
       " 'Washington Redskins',\n",
       " 'Will Tye',\n",
       " 'Xavier Grimble',\n",
       " 'Zane Gonzalez'}"
      ]
     },
     "execution_count": 149,
     "metadata": {},
     "output_type": "execute_result"
    }
   ],
   "source": [
    "score_players - rank_players"
   ]
  },
  {
   "cell_type": "code",
   "execution_count": 150,
   "metadata": {},
   "outputs": [
    {
     "data": {
      "text/plain": [
       "{'Aaron Donald',\n",
       " 'Alec Ogletree',\n",
       " 'Allen Robinson',\n",
       " 'Andrew Luck',\n",
       " 'Anquan Boldin',\n",
       " 'ArDarius Stewart',\n",
       " 'Ben Watson',\n",
       " 'Bobby Wagner',\n",
       " 'Branden Oliver',\n",
       " 'Brandon Marshall',\n",
       " 'Braxton Miller',\n",
       " 'Breshad Perriman',\n",
       " 'C.J. Mosley',\n",
       " 'C.J. Prosise',\n",
       " 'Calais Campbell',\n",
       " 'Cameron Meredith',\n",
       " 'Carlos Dunlap',\n",
       " 'Carlos Henderson',\n",
       " 'Chad Williams',\n",
       " 'Chris Conley',\n",
       " 'Colin Kaepernick',\n",
       " 'Corey Davis',\n",
       " 'Curtis Samuel',\n",
       " 'Danielle Hunter',\n",
       " 'Darren McFadden',\n",
       " 'Darren Sproles',\n",
       " 'David Johnson',\n",
       " \"De'Angelo Henderson\",\n",
       " 'Donnel Pumphrey',\n",
       " 'Eli Rogers',\n",
       " 'Elijah Hood',\n",
       " 'Erik Swoope',\n",
       " 'Gary Barnidge',\n",
       " 'Harrison Smith',\n",
       " 'J.J. Watt',\n",
       " 'Jake Butt',\n",
       " 'James Conner',\n",
       " 'Jamie Collins',\n",
       " 'Jason Pierre-Paul',\n",
       " 'Jeremy Hill',\n",
       " 'Jeremy Langford',\n",
       " 'Jeremy McNichols',\n",
       " 'Joe Williams',\n",
       " 'Joey Bosa',\n",
       " 'John Ross',\n",
       " 'Jonathan Williams',\n",
       " 'Jordan Matthews',\n",
       " 'Josh Reynolds',\n",
       " 'Julian Edelman',\n",
       " 'Kamar Aiken',\n",
       " 'Keanu Neal',\n",
       " 'Kenneth Dixon',\n",
       " 'Kenny Britt',\n",
       " 'Kevin White',\n",
       " 'Khalil Mack',\n",
       " 'Kwon Alexander',\n",
       " 'Lance Dunbar',\n",
       " 'Landon Collins',\n",
       " 'Laquon Treadwell',\n",
       " 'Luke Kuechly',\n",
       " 'Malcolm Mitchell',\n",
       " 'Michael Floyd',\n",
       " 'Mike Williams',\n",
       " 'Navorro Bowman',\n",
       " 'Odell Beckham',\n",
       " 'Olivier Vernon',\n",
       " 'Paul Perkins',\n",
       " 'Phillip Dorsett',\n",
       " 'Quincy Enunwa',\n",
       " 'Reshad Jones',\n",
       " 'Rico Gathers',\n",
       " 'Ryan Mathews',\n",
       " 'Ryan Shazier',\n",
       " 'Ryan Tannehill',\n",
       " 'Sean Lee',\n",
       " 'Sebastian Janikowski',\n",
       " 'Seth DeValve',\n",
       " 'Spencer Ware',\n",
       " 'Steven Hauschka',\n",
       " 'Tavon Austin',\n",
       " 'Taywan Taylor',\n",
       " 'Telvin Smith',\n",
       " 'Terrelle Pryor',\n",
       " 'Tim Hightower',\n",
       " 'Tyler Boyd',\n",
       " 'Victor Cruz',\n",
       " 'Von Miller',\n",
       " 'Willie Snead',\n",
       " 'Zach Zenner'}"
      ]
     },
     "execution_count": 150,
     "metadata": {},
     "output_type": "execute_result"
    }
   ],
   "source": [
    "rank_players-score_players"
   ]
  },
  {
   "cell_type": "code",
   "execution_count": 57,
   "metadata": {},
   "outputs": [],
   "source": [
    "def simulate_draft(rankFrame, fantasy_players, num_rounds):\n",
    "    '''\n",
    "    returns a list of rosters for each fantasy player\n",
    "    '''\n",
    "    position_index_dict\n",
    "    drafted_players = set()\n",
    "    for draft_round in range(num_rounds):\n",
    "        for player in range(fantasy_players.shape[0]):\n",
    "            # retrieve strategy\n",
    "            round_strategy = fantasy_players[player,draft_round, :]\n",
    "            # calculate player ranks\n",
    "            print(round_strategy)\n",
    "            break\n",
    "    return fantasy_teams"
   ]
  },
  {
   "cell_type": "code",
   "execution_count": 58,
   "metadata": {},
   "outputs": [
    {
     "name": "stdout",
     "output_type": "stream",
     "text": [
      "[0.12450951 0.24221658 0.22053774 0.201553   0.10757643 0.10360674]\n",
      "[0.00133977 0.27464183 0.13641913 0.18885906 0.22736425 0.17137595]\n",
      "[0.02289191 0.16397377 0.22024126 0.14538954 0.2077734  0.23973012]\n",
      "[0.11976985 0.42714667 0.24149384 0.10378072 0.09092644 0.01688249]\n",
      "[0.1010647  0.19731403 0.16094528 0.22204605 0.09638806 0.22224188]\n",
      "[0.05590035 0.05284243 0.14348468 0.14838749 0.27389808 0.32548698]\n",
      "[0.05243324 0.28215605 0.25429574 0.12486966 0.16162869 0.12461661]\n",
      "[0.25929737 0.12584274 0.05952572 0.23525717 0.11059225 0.20948476]\n",
      "[0.10221644 0.13809797 0.02200412 0.20217354 0.21543265 0.32007528]\n",
      "[0.32727354 0.07096239 0.11728432 0.27294256 0.00364651 0.20789067]\n"
     ]
    },
    {
     "ename": "NameError",
     "evalue": "name 'fantasy_teams' is not defined",
     "output_type": "error",
     "traceback": [
      "\u001b[0;31m---------------------------------------------------------------------------\u001b[0m",
      "\u001b[0;31mNameError\u001b[0m                                 Traceback (most recent call last)",
      "\u001b[0;32m<ipython-input-58-1307f921f885>\u001b[0m in \u001b[0;36m<module>\u001b[0;34m()\u001b[0m\n\u001b[0;32m----> 1\u001b[0;31m \u001b[0msimulate_draft\u001b[0m\u001b[0;34m(\u001b[0m\u001b[0mrankFrame\u001b[0m\u001b[0;34m,\u001b[0m \u001b[0mfantasy_players\u001b[0m\u001b[0;34m,\u001b[0m \u001b[0;36m10\u001b[0m\u001b[0;34m)\u001b[0m\u001b[0;34m\u001b[0m\u001b[0m\n\u001b[0m",
      "\u001b[0;32m<ipython-input-57-45691d8c6dcc>\u001b[0m in \u001b[0;36msimulate_draft\u001b[0;34m(rankFrame, fantasy_players, num_rounds)\u001b[0m\n\u001b[1;32m      9\u001b[0m             \u001b[0mprint\u001b[0m\u001b[0;34m(\u001b[0m\u001b[0mround_strategy\u001b[0m\u001b[0;34m)\u001b[0m\u001b[0;34m\u001b[0m\u001b[0m\n\u001b[1;32m     10\u001b[0m             \u001b[0;32mbreak\u001b[0m\u001b[0;34m\u001b[0m\u001b[0m\n\u001b[0;32m---> 11\u001b[0;31m     \u001b[0;32mreturn\u001b[0m \u001b[0mfantasy_teams\u001b[0m\u001b[0;34m\u001b[0m\u001b[0m\n\u001b[0m",
      "\u001b[0;31mNameError\u001b[0m: name 'fantasy_teams' is not defined"
     ]
    }
   ],
   "source": [
    "simulate_draft(rankFrame, fantasy_players, 10)"
   ]
  },
  {
   "cell_type": "code",
   "execution_count": null,
   "metadata": {},
   "outputs": [],
   "source": [
    "def score_roster(score_frame, fantasy_teams):\n",
    "    '''\n",
    "    returns a list of performances for each fantasy player's team\n",
    "    '''\n",
    "    \n",
    "    return fantasy_team_performances"
   ]
  }
 ],
 "metadata": {
  "kernelspec": {
   "display_name": "Python 3",
   "language": "python",
   "name": "python3"
  },
  "language_info": {
   "codemirror_mode": {
    "name": "ipython",
    "version": 3
   },
   "file_extension": ".py",
   "mimetype": "text/x-python",
   "name": "python",
   "nbconvert_exporter": "python",
   "pygments_lexer": "ipython3",
   "version": "3.5.1"
  }
 },
 "nbformat": 4,
 "nbformat_minor": 2
}
