{
 "cells": [
  {
   "cell_type": "code",
   "execution_count": 3,
   "metadata": {},
   "outputs": [
    {
     "name": "stdout",
     "output_type": "stream",
     "text": [
      "The autoreload extension is already loaded. To reload it, use:\n",
      "  %reload_ext autoreload\n"
     ]
    }
   ],
   "source": [
    "### header ###\n",
    "__author__ = \"Jenhan Tao\"\n",
    "__license__ = \"MIT\"\n",
    "__email__ = \"jenhantao@gmail.com\"\n",
    "\n",
    "### imports ###\n",
    "import sys # system functions\n",
    "import os # os functions\n",
    "import pandas as pd # for reading data\n",
    "import numpy as np # for numeric operations\n",
    "import matplotlib.pyplot as plt \n",
    "import matplotlib # for visualizing data\n",
    "import scipy # scientific computing\n",
    "import seaborn as sns # for pretty plots\n",
    "\n",
    "### notebook specific configuration ###\n",
    "%matplotlib inline\n",
    "matplotlib.rcParams['savefig.dpi'] = 200\n",
    "sns.set_context('notebook')\n",
    "%load_ext autoreload\n",
    "%autoreload 2"
   ]
  },
  {
   "cell_type": "code",
   "execution_count": 7,
   "metadata": {},
   "outputs": [],
   "source": [
    "# it's bad practice to work within a github repo and also bad practice to have data in a github repo\n",
    "# but it's convenient\n",
    "# change working directory to github repo\n",
    "working_directory = '/gpfs/data01/glasslab/home/jtao/side_projects/fantasy_football_genetic_algorithm_draft/'\n",
    "os.chdir(working_directory)"
   ]
  },
  {
   "cell_type": "markdown",
   "metadata": {},
   "source": [
    "### Read in rankings"
   ]
  },
  {
   "cell_type": "code",
   "execution_count": 17,
   "metadata": {},
   "outputs": [],
   "source": [
    "year_rankFrame_dict = {} # {year:DataFrame}\n",
    "for f in os.listdir(working_directory + '/rankings_standard'):\n",
    "    json_path = working_directory + '/rankings_standard/' + f\n",
    "    ranks = pd.read_json(json_path, typ='series')\n",
    "    adp_list = [x['adp'] for x in ranks['players']]\n",
    "    name_list = [x['name'] for x in ranks['players']]\n",
    "    position_list = [x['position'] for x in ranks['players']]\n",
    "    \n",
    "    year = f.split('_')[-1].replace('.json','')\n",
    "    \n",
    "    rankFrame = pd.DataFrame({'ADP':adp_list, 'Position':position_list, 'Name':name_list})\n",
    "    year_rankFrame_dict[year] = rankFrame\n",
    "    \n"
   ]
  },
  {
   "cell_type": "code",
   "execution_count": 18,
   "metadata": {},
   "outputs": [
    {
     "data": {
      "text/html": [
       "<div>\n",
       "<style>\n",
       "    .dataframe thead tr:only-child th {\n",
       "        text-align: right;\n",
       "    }\n",
       "\n",
       "    .dataframe thead th {\n",
       "        text-align: left;\n",
       "    }\n",
       "\n",
       "    .dataframe tbody tr th {\n",
       "        vertical-align: top;\n",
       "    }\n",
       "</style>\n",
       "<table border=\"1\" class=\"dataframe\">\n",
       "  <thead>\n",
       "    <tr style=\"text-align: right;\">\n",
       "      <th></th>\n",
       "      <th>ADP</th>\n",
       "      <th>Name</th>\n",
       "      <th>Position</th>\n",
       "    </tr>\n",
       "  </thead>\n",
       "  <tbody>\n",
       "    <tr>\n",
       "      <th>0</th>\n",
       "      <td>1.6</td>\n",
       "      <td>LeSean McCoy</td>\n",
       "      <td>RB</td>\n",
       "    </tr>\n",
       "    <tr>\n",
       "      <th>1</th>\n",
       "      <td>3.1</td>\n",
       "      <td>Adrian Peterson</td>\n",
       "      <td>RB</td>\n",
       "    </tr>\n",
       "    <tr>\n",
       "      <th>2</th>\n",
       "      <td>3.5</td>\n",
       "      <td>Jamaal Charles</td>\n",
       "      <td>RB</td>\n",
       "    </tr>\n",
       "    <tr>\n",
       "      <th>3</th>\n",
       "      <td>4.2</td>\n",
       "      <td>Matt Forte</td>\n",
       "      <td>RB</td>\n",
       "    </tr>\n",
       "    <tr>\n",
       "      <th>4</th>\n",
       "      <td>5.5</td>\n",
       "      <td>Calvin Johnson</td>\n",
       "      <td>WR</td>\n",
       "    </tr>\n",
       "  </tbody>\n",
       "</table>\n",
       "</div>"
      ],
      "text/plain": [
       "   ADP             Name Position\n",
       "0  1.6     LeSean McCoy       RB\n",
       "1  3.1  Adrian Peterson       RB\n",
       "2  3.5   Jamaal Charles       RB\n",
       "3  4.2       Matt Forte       RB\n",
       "4  5.5   Calvin Johnson       WR"
      ]
     },
     "execution_count": 18,
     "metadata": {},
     "output_type": "execute_result"
    }
   ],
   "source": [
    "rankFrame.head()"
   ]
  },
  {
   "cell_type": "markdown",
   "metadata": {},
   "source": [
    "### Read in season results"
   ]
  },
  {
   "cell_type": "code",
   "execution_count": 28,
   "metadata": {},
   "outputs": [],
   "source": [
    "year_scoreFrame_dict = {} # {year:DataFrame}\n",
    "for f in os.listdir(working_directory + '/scoring_standard'):\n",
    "    score_path = working_directory + '/scoring_standard/' + f\n",
    "    scoreFrame = pd.read_csv(score_path, sep=',')\n",
    "    year_scoreFrame_dict[year] = scoreFrame\n",
    "    \n"
   ]
  },
  {
   "cell_type": "code",
   "execution_count": 29,
   "metadata": {},
   "outputs": [
    {
     "data": {
      "text/html": [
       "<div>\n",
       "<style>\n",
       "    .dataframe thead tr:only-child th {\n",
       "        text-align: right;\n",
       "    }\n",
       "\n",
       "    .dataframe thead th {\n",
       "        text-align: left;\n",
       "    }\n",
       "\n",
       "    .dataframe tbody tr th {\n",
       "        vertical-align: top;\n",
       "    }\n",
       "</style>\n",
       "<table border=\"1\" class=\"dataframe\">\n",
       "  <thead>\n",
       "    <tr style=\"text-align: right;\">\n",
       "      <th></th>\n",
       "      <th>Player</th>\n",
       "      <th>Points</th>\n",
       "    </tr>\n",
       "  </thead>\n",
       "  <tbody>\n",
       "    <tr>\n",
       "      <th>0</th>\n",
       "      <td>Drew Brees</td>\n",
       "      <td>424</td>\n",
       "    </tr>\n",
       "    <tr>\n",
       "      <th>1</th>\n",
       "      <td>Aaron Rodgers</td>\n",
       "      <td>411</td>\n",
       "    </tr>\n",
       "    <tr>\n",
       "      <th>2</th>\n",
       "      <td>Tom Brady</td>\n",
       "      <td>397</td>\n",
       "    </tr>\n",
       "    <tr>\n",
       "      <th>3</th>\n",
       "      <td>Peyton Manning</td>\n",
       "      <td>380</td>\n",
       "    </tr>\n",
       "    <tr>\n",
       "      <th>4</th>\n",
       "      <td>Matt Ryan</td>\n",
       "      <td>357</td>\n",
       "    </tr>\n",
       "  </tbody>\n",
       "</table>\n",
       "</div>"
      ],
      "text/plain": [
       "           Player  Points\n",
       "0      Drew Brees     424\n",
       "1   Aaron Rodgers     411\n",
       "2       Tom Brady     397\n",
       "3  Peyton Manning     380\n",
       "4       Matt Ryan     357"
      ]
     },
     "execution_count": 29,
     "metadata": {},
     "output_type": "execute_result"
    }
   ],
   "source": [
    "scoreFrame.head()"
   ]
  },
  {
   "cell_type": "markdown",
   "metadata": {},
   "source": [
    "### Create Players"
   ]
  },
  {
   "cell_type": "code",
   "execution_count": 49,
   "metadata": {},
   "outputs": [],
   "source": [
    "position_index_dict = dict(zip(sorted(rankFrame['Position'].unique()), \n",
    "                               range(len(rankFrame['Position'].unique()))))\n",
    "index_position_dict = dict(zip(range(len(rankFrame['Position'].unique())),\n",
    "                                sorted(rankFrame['Position'].unique()), \n",
    "                               ))"
   ]
  },
  {
   "cell_type": "code",
   "execution_count": 48,
   "metadata": {},
   "outputs": [
    {
     "data": {
      "text/plain": [
       "{'DEF': 0, 'PK': 1, 'QB': 2, 'RB': 3, 'TE': 4, 'WR': 5}"
      ]
     },
     "execution_count": 48,
     "metadata": {},
     "output_type": "execute_result"
    }
   ],
   "source": [
    "position_index_dict # gives the position and the corresponding index"
   ]
  },
  {
   "cell_type": "code",
   "execution_count": 50,
   "metadata": {},
   "outputs": [
    {
     "data": {
      "text/plain": [
       "{0: 'DEF', 1: 'PK', 2: 'QB', 3: 'RB', 4: 'TE', 5: 'WR'}"
      ]
     },
     "execution_count": 50,
     "metadata": {},
     "output_type": "execute_result"
    }
   ],
   "source": [
    "index_position_dict # gives the index and the corresponding index"
   ]
  },
  {
   "cell_type": "code",
   "execution_count": 38,
   "metadata": {},
   "outputs": [],
   "source": [
    "def create_new_players(num_players, num_rounds):\n",
    "    '''\n",
    "    inputs: number of players and rounds\n",
    "    outputs: list of fantasy players\n",
    "    '''\n",
    "    num_positions = 6 # number of positions\n",
    "    player_list = []\n",
    "    for player_number in range(num_players):\n",
    "        new_player = []\n",
    "        for round_number in range(num_rounds):\n",
    "            weights = np.random.random(num_positions) # initialize random weights\n",
    "            normed_weights = weights/np.sum(weights) # normalize so weights sum to 1\n",
    "            new_player.append(normed_weights)\n",
    "    \n",
    "        player_list.append((new_player))\n",
    "    return np.array(player_list)"
   ]
  },
  {
   "cell_type": "code",
   "execution_count": 30,
   "metadata": {},
   "outputs": [
    {
     "data": {
      "text/plain": [
       "6"
      ]
     },
     "execution_count": 30,
     "metadata": {},
     "output_type": "execute_result"
    }
   ],
   "source": [
    "len(rankFrame['Position'].unique()) # number of positions"
   ]
  },
  {
   "cell_type": "code",
   "execution_count": 40,
   "metadata": {},
   "outputs": [],
   "source": [
    "fantasy_players = create_new_players(12, 10)"
   ]
  },
  {
   "cell_type": "code",
   "execution_count": 41,
   "metadata": {},
   "outputs": [
    {
     "data": {
      "text/plain": [
       "(12, 10, 6)"
      ]
     },
     "execution_count": 41,
     "metadata": {},
     "output_type": "execute_result"
    }
   ],
   "source": [
    "fantasy_players.shape # first index gives the player\n",
    "                      # second index gives the round\n",
    "                      # third index gives the position \n"
   ]
  },
  {
   "cell_type": "code",
   "execution_count": null,
   "metadata": {},
   "outputs": [],
   "source": [
    "fantasy_players[0,0,0] #gives the importance for player 1 in the first round for a defense \n",
    "fantasy_players[0,0,1] #gives the importance for player 1 in the first round for a place kicker (PK)\n",
    "fantasy_players[8,3,2] #gives the importance for player 9 in the fourth round for a QB"
   ]
  },
  {
   "cell_type": "markdown",
   "metadata": {},
   "source": [
    "### Run Simulation"
   ]
  },
  {
   "cell_type": "code",
   "execution_count": null,
   "metadata": {},
   "outputs": [],
   "source": [
    "def simulate_draft(rankFrame, fantasy_players, num_rounds):\n",
    "    '''\n",
    "    returns a list of rosters for each fantasy player\n",
    "    '''\n",
    "    \n",
    "    return fantasy_teams"
   ]
  },
  {
   "cell_type": "code",
   "execution_count": null,
   "metadata": {},
   "outputs": [],
   "source": [
    "def score_roster(score_frame, fantasy_teams):\n",
    "    '''\n",
    "    returns a list of performances for each fantasy player's team\n",
    "    '''\n",
    "    \n",
    "    return fantasy_team_performances"
   ]
  }
 ],
 "metadata": {
  "kernelspec": {
   "display_name": "Python 3",
   "language": "python",
   "name": "python3"
  },
  "language_info": {
   "codemirror_mode": {
    "name": "ipython",
    "version": 3
   },
   "file_extension": ".py",
   "mimetype": "text/x-python",
   "name": "python",
   "nbconvert_exporter": "python",
   "pygments_lexer": "ipython3",
   "version": "3.5.1"
  }
 },
 "nbformat": 4,
 "nbformat_minor": 2
}
