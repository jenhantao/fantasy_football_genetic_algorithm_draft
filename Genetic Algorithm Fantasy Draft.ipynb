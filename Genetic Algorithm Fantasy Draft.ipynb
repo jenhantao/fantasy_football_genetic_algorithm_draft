{
 "cells": [
  {
   "cell_type": "code",
   "execution_count": 3,
   "metadata": {},
   "outputs": [
    {
     "name": "stdout",
     "output_type": "stream",
     "text": [
      "The autoreload extension is already loaded. To reload it, use:\n",
      "  %reload_ext autoreload\n"
     ]
    }
   ],
   "source": [
    "### header ###\n",
    "__author__ = \"Jenhan Tao\"\n",
    "__license__ = \"MIT\"\n",
    "__email__ = \"jenhantao@gmail.com\"\n",
    "\n",
    "### imports ###\n",
    "import sys # system functions\n",
    "import os # os functions\n",
    "import pandas as pd # for reading data\n",
    "import numpy as np # for numeric operations\n",
    "import matplotlib.pyplot as plt \n",
    "import matplotlib # for visualizing data\n",
    "import scipy # scientific computing\n",
    "import seaborn as sns # for pretty plots\n",
    "\n",
    "### notebook specific configuration ###\n",
    "%matplotlib inline\n",
    "matplotlib.rcParams['savefig.dpi'] = 200\n",
    "sns.set_context('notebook')\n",
    "%load_ext autoreload\n",
    "%autoreload 2"
   ]
  },
  {
   "cell_type": "code",
   "execution_count": 7,
   "metadata": {},
   "outputs": [],
   "source": [
    "# it's bad practice to work within a github repo and also bad practice to have data in a github repo\n",
    "# but it's convenient\n",
    "# change working directory to github repo\n",
    "working_directory = '/gpfs/data01/glasslab/home/jtao/side_projects/fantasy_football_genetic_algorithm_draft/'\n",
    "os.chdir(working_directory)"
   ]
  },
  {
   "cell_type": "markdown",
   "metadata": {},
   "source": [
    "### Read in rankings"
   ]
  },
  {
   "cell_type": "code",
   "execution_count": 17,
   "metadata": {},
   "outputs": [],
   "source": [
    "# year_rankFrame_dict = {} # {year:DataFrame}\n",
    "# for f in os.listdir(working_directory + '/rankings_ffc_standard'):\n",
    "#     json_path = working_directory + '/rankings_ffc_standard/' + f\n",
    "#     ranks = pd.read_json(json_path, typ='series')\n",
    "#     adp_list = [x['adp'] for x in ranks['players']]\n",
    "#     name_list = [x['name'] for x in ranks['players']]\n",
    "#     position_list = [x['position'] for x in ranks['players']]\n",
    "    \n",
    "#     year = f.split('_')[-1].replace('.json','')\n",
    "    \n",
    "#     rankFrame = pd.DataFrame({'ADP':adp_list, 'Position':position_list, 'Name':name_list})\n",
    "#     year_rankFrame_dict[year] = rankFrame\n",
    "    \n"
   ]
  },
  {
   "cell_type": "code",
   "execution_count": 168,
   "metadata": {},
   "outputs": [],
   "source": [
    "year_rankFrame_dict = {} # {year:DataFrame}\n",
    "for f in os.listdir(working_directory + '/rankings_mfl_standard'):\n",
    "    csv_path = working_directory + '/rankings_mfl_standard/' + f\n",
    "    rankFrame = pd.read_csv(csv_path, sep=',')\n",
    "    rankFrame['POSITION'] = [x.split(' ')[-1].replace('*','') for x in rankFrame['PLAYER'].values]\n",
    "    rankFrame['NAME'] = [' '.join(x.split(', ')[1].split(' ')[:-2]) + ' ' + x.split(', ')[0].replace(',','') for x in rankFrame['PLAYER'].values]\n",
    "    \n",
    "    rankFrame = rankFrame[rankFrame['POSITION'].isin(['Def', 'PK', 'QB', 'RB', 'TE', 'WR'])]\n",
    "    rankFrame['ADP SCORE'] = rankFrame['AVG. PICK'].max() - rankFrame['AVG. PICK'].values\n",
    "    year = f.split('_')[-1].replace('.csv','')\n",
    "    \n",
    "    year_rankFrame_dict[year] = rankFrame\n",
    "    \n"
   ]
  },
  {
   "cell_type": "markdown",
   "metadata": {},
   "source": [
    "### Read in season results"
   ]
  },
  {
   "cell_type": "code",
   "execution_count": 123,
   "metadata": {},
   "outputs": [],
   "source": [
    "year_scoreFrame_dict = {} # {year:DataFrame}\n",
    "for f in os.listdir(working_directory + '/scoring_standard'):\n",
    "    score_path = working_directory + '/scoring_standard/' + f\n",
    "    scoreFrame = pd.read_csv(score_path, sep=',')\n",
    "    year = f.split('_')[-1].replace('.csv','')\n",
    "    year_scoreFrame_dict[year] = scoreFrame\n",
    "    \n"
   ]
  },
  {
   "cell_type": "code",
   "execution_count": 124,
   "metadata": {},
   "outputs": [
    {
     "data": {
      "text/html": [
       "<div>\n",
       "<style>\n",
       "    .dataframe thead tr:only-child th {\n",
       "        text-align: right;\n",
       "    }\n",
       "\n",
       "    .dataframe thead th {\n",
       "        text-align: left;\n",
       "    }\n",
       "\n",
       "    .dataframe tbody tr th {\n",
       "        vertical-align: top;\n",
       "    }\n",
       "</style>\n",
       "<table border=\"1\" class=\"dataframe\">\n",
       "  <thead>\n",
       "    <tr style=\"text-align: right;\">\n",
       "      <th></th>\n",
       "      <th>Player</th>\n",
       "      <th>Points</th>\n",
       "    </tr>\n",
       "  </thead>\n",
       "  <tbody>\n",
       "    <tr>\n",
       "      <th>0</th>\n",
       "      <td>Stephen Gostkowski</td>\n",
       "      <td>159</td>\n",
       "    </tr>\n",
       "    <tr>\n",
       "      <th>1</th>\n",
       "      <td>Graham Gano</td>\n",
       "      <td>150</td>\n",
       "    </tr>\n",
       "    <tr>\n",
       "      <th>2</th>\n",
       "      <td>Blair Walsh</td>\n",
       "      <td>147</td>\n",
       "    </tr>\n",
       "    <tr>\n",
       "      <th>3</th>\n",
       "      <td>Robbie Gould</td>\n",
       "      <td>141</td>\n",
       "    </tr>\n",
       "    <tr>\n",
       "      <th>4</th>\n",
       "      <td>Josh Brown</td>\n",
       "      <td>140</td>\n",
       "    </tr>\n",
       "  </tbody>\n",
       "</table>\n",
       "</div>"
      ],
      "text/plain": [
       "               Player  Points\n",
       "0  Stephen Gostkowski     159\n",
       "1         Graham Gano     150\n",
       "2         Blair Walsh     147\n",
       "3        Robbie Gould     141\n",
       "4          Josh Brown     140"
      ]
     },
     "execution_count": 124,
     "metadata": {},
     "output_type": "execute_result"
    }
   ],
   "source": [
    "scoreFrame.head()"
   ]
  },
  {
   "cell_type": "markdown",
   "metadata": {},
   "source": [
    "### Create Players"
   ]
  },
  {
   "cell_type": "code",
   "execution_count": 152,
   "metadata": {},
   "outputs": [],
   "source": [
    "position_index_dict = dict(zip(sorted(rankFrame['POSITION'].unique()), \n",
    "                               range(len(rankFrame['POSITION'].unique()))))\n",
    "index_position_dict = dict(zip(range(len(rankFrame['POSITION'].unique())),\n",
    "                                sorted(rankFrame['POSITION'].unique()), \n",
    "                               ))"
   ]
  },
  {
   "cell_type": "code",
   "execution_count": 153,
   "metadata": {},
   "outputs": [
    {
     "data": {
      "text/plain": [
       "{'DE': 0,\n",
       " 'Def': 1,\n",
       " 'LB': 2,\n",
       " 'PK': 3,\n",
       " 'QB': 4,\n",
       " 'RB': 5,\n",
       " 'S': 6,\n",
       " 'TE': 7,\n",
       " 'WR': 8}"
      ]
     },
     "execution_count": 153,
     "metadata": {},
     "output_type": "execute_result"
    }
   ],
   "source": [
    "position_index_dict # gives the position and the corresponding index"
   ]
  },
  {
   "cell_type": "code",
   "execution_count": 154,
   "metadata": {},
   "outputs": [
    {
     "data": {
      "text/plain": [
       "{0: 'DE',\n",
       " 1: 'Def',\n",
       " 2: 'LB',\n",
       " 3: 'PK',\n",
       " 4: 'QB',\n",
       " 5: 'RB',\n",
       " 6: 'S',\n",
       " 7: 'TE',\n",
       " 8: 'WR'}"
      ]
     },
     "execution_count": 154,
     "metadata": {},
     "output_type": "execute_result"
    }
   ],
   "source": [
    "index_position_dict # gives the index and the corresponding index"
   ]
  },
  {
   "cell_type": "code",
   "execution_count": 128,
   "metadata": {},
   "outputs": [],
   "source": [
    "def create_new_players(num_players, num_rounds):\n",
    "    '''\n",
    "    inputs: number of players and rounds\n",
    "    outputs: list of fantasy players\n",
    "    '''\n",
    "    num_positions = 6 # number of positions\n",
    "    player_list = []\n",
    "    for player_number in range(num_players):\n",
    "        new_player = []\n",
    "        for round_number in range(num_rounds):\n",
    "            weights = np.random.random(num_positions) # initialize random weights\n",
    "            normed_weights = weights/np.sum(weights) # normalize so weights sum to 1\n",
    "            new_player.append(normed_weights)\n",
    "    \n",
    "        player_list.append((new_player))\n",
    "    return np.array(player_list)"
   ]
  },
  {
   "cell_type": "code",
   "execution_count": 151,
   "metadata": {},
   "outputs": [
    {
     "data": {
      "text/plain": [
       "9"
      ]
     },
     "execution_count": 151,
     "metadata": {},
     "output_type": "execute_result"
    }
   ],
   "source": [
    "len(rankFrame['POSITION'].unique()) # number of positions"
   ]
  },
  {
   "cell_type": "code",
   "execution_count": 40,
   "metadata": {},
   "outputs": [],
   "source": [
    "fantasy_players = create_new_players(12, 10)"
   ]
  },
  {
   "cell_type": "code",
   "execution_count": 41,
   "metadata": {},
   "outputs": [
    {
     "data": {
      "text/plain": [
       "(12, 10, 6)"
      ]
     },
     "execution_count": 41,
     "metadata": {},
     "output_type": "execute_result"
    }
   ],
   "source": [
    "fantasy_players.shape # first index gives the player\n",
    "                      # second index gives the round\n",
    "                      # third index gives the position \n"
   ]
  },
  {
   "cell_type": "code",
   "execution_count": null,
   "metadata": {},
   "outputs": [],
   "source": [
    "fantasy_players[0,0,0] #gives the importance for player 1 in the first round for a defense \n",
    "fantasy_players[0,0,1] #gives the importance for player 1 in the first round for a place kicker (PK)\n",
    "fantasy_players[8,3,2] #gives the importance for player 9 in the fourth round for a QB"
   ]
  },
  {
   "cell_type": "code",
   "execution_count": 53,
   "metadata": {},
   "outputs": [
    {
     "data": {
      "text/plain": [
       "(12, 10, 6)"
      ]
     },
     "execution_count": 53,
     "metadata": {},
     "output_type": "execute_result"
    }
   ],
   "source": [
    "fantasy_players.shape"
   ]
  },
  {
   "cell_type": "markdown",
   "metadata": {},
   "source": [
    "### Run Simulation"
   ]
  },
  {
   "cell_type": "code",
   "execution_count": 157,
   "metadata": {},
   "outputs": [],
   "source": [
    "rankFrame = year_rankFrame_dict['2017']\n",
    "\n",
    "scoreFrame = year_scoreFrame_dict['2017']"
   ]
  },
  {
   "cell_type": "code",
   "execution_count": 158,
   "metadata": {},
   "outputs": [
    {
     "data": {
      "text/plain": [
       "(340, 9)"
      ]
     },
     "execution_count": 158,
     "metadata": {},
     "output_type": "execute_result"
    }
   ],
   "source": [
    "rankFrame.shape"
   ]
  },
  {
   "cell_type": "code",
   "execution_count": 159,
   "metadata": {
    "scrolled": true
   },
   "outputs": [
    {
     "data": {
      "text/plain": [
       "(461, 2)"
      ]
     },
     "execution_count": 159,
     "metadata": {},
     "output_type": "execute_result"
    }
   ],
   "source": [
    "scoreFrame.shape"
   ]
  },
  {
   "cell_type": "code",
   "execution_count": 160,
   "metadata": {},
   "outputs": [],
   "source": [
    "score_players = set (scoreFrame['Player'].values)"
   ]
  },
  {
   "cell_type": "code",
   "execution_count": 161,
   "metadata": {},
   "outputs": [],
   "source": [
    "rank_players = set(rankFrame['NAME'].values)"
   ]
  },
  {
   "cell_type": "code",
   "execution_count": 165,
   "metadata": {},
   "outputs": [
    {
     "data": {
      "text/plain": [
       "186"
      ]
     },
     "execution_count": 165,
     "metadata": {},
     "output_type": "execute_result"
    }
   ],
   "source": [
    "len(score_players - rank_players)"
   ]
  },
  {
   "cell_type": "code",
   "execution_count": 164,
   "metadata": {},
   "outputs": [
    {
     "data": {
      "text/plain": [
       "65"
      ]
     },
     "execution_count": 164,
     "metadata": {},
     "output_type": "execute_result"
    }
   ],
   "source": [
    "len(rank_players-score_players)"
   ]
  },
  {
   "cell_type": "code",
   "execution_count": 166,
   "metadata": {},
   "outputs": [],
   "source": [
    "def simulate_draft(rankFrame, fantasy_players, num_rounds):\n",
    "    '''\n",
    "    returns a list of rosters for each fantasy player\n",
    "    '''\n",
    "    position_index_dict\n",
    "    drafted_players = set()\n",
    "    for draft_round in range(num_rounds):\n",
    "        for player in range(fantasy_players.shape[0]):\n",
    "            # retrieve strategy\n",
    "            round_strategy = fantasy_players[player,draft_round, :]\n",
    "            # calculate player ranks\n",
    "            print(round_strategy)\n",
    "            break\n",
    "    return fantasy_teams"
   ]
  },
  {
   "cell_type": "code",
   "execution_count": 167,
   "metadata": {},
   "outputs": [
    {
     "name": "stdout",
     "output_type": "stream",
     "text": [
      "[0.12450951 0.24221658 0.22053774 0.201553   0.10757643 0.10360674]\n",
      "[0.00133977 0.27464183 0.13641913 0.18885906 0.22736425 0.17137595]\n",
      "[0.02289191 0.16397377 0.22024126 0.14538954 0.2077734  0.23973012]\n",
      "[0.11976985 0.42714667 0.24149384 0.10378072 0.09092644 0.01688249]\n",
      "[0.1010647  0.19731403 0.16094528 0.22204605 0.09638806 0.22224188]\n",
      "[0.05590035 0.05284243 0.14348468 0.14838749 0.27389808 0.32548698]\n",
      "[0.05243324 0.28215605 0.25429574 0.12486966 0.16162869 0.12461661]\n",
      "[0.25929737 0.12584274 0.05952572 0.23525717 0.11059225 0.20948476]\n",
      "[0.10221644 0.13809797 0.02200412 0.20217354 0.21543265 0.32007528]\n",
      "[0.32727354 0.07096239 0.11728432 0.27294256 0.00364651 0.20789067]\n"
     ]
    },
    {
     "ename": "NameError",
     "evalue": "name 'fantasy_teams' is not defined",
     "output_type": "error",
     "traceback": [
      "\u001b[0;31m---------------------------------------------------------------------------\u001b[0m",
      "\u001b[0;31mNameError\u001b[0m                                 Traceback (most recent call last)",
      "\u001b[0;32m<ipython-input-167-1307f921f885>\u001b[0m in \u001b[0;36m<module>\u001b[0;34m()\u001b[0m\n\u001b[0;32m----> 1\u001b[0;31m \u001b[0msimulate_draft\u001b[0m\u001b[0;34m(\u001b[0m\u001b[0mrankFrame\u001b[0m\u001b[0;34m,\u001b[0m \u001b[0mfantasy_players\u001b[0m\u001b[0;34m,\u001b[0m \u001b[0;36m10\u001b[0m\u001b[0;34m)\u001b[0m\u001b[0;34m\u001b[0m\u001b[0m\n\u001b[0m",
      "\u001b[0;32m<ipython-input-166-b52a863d71bf>\u001b[0m in \u001b[0;36msimulate_draft\u001b[0;34m(rankFrame, fantasy_players, num_rounds)\u001b[0m\n\u001b[1;32m     12\u001b[0m             \u001b[0mprint\u001b[0m\u001b[0;34m(\u001b[0m\u001b[0mround_strategy\u001b[0m\u001b[0;34m)\u001b[0m\u001b[0;34m\u001b[0m\u001b[0m\n\u001b[1;32m     13\u001b[0m             \u001b[0;32mbreak\u001b[0m\u001b[0;34m\u001b[0m\u001b[0m\n\u001b[0;32m---> 14\u001b[0;31m     \u001b[0;32mreturn\u001b[0m \u001b[0mfantasy_teams\u001b[0m\u001b[0;34m\u001b[0m\u001b[0m\n\u001b[0m",
      "\u001b[0;31mNameError\u001b[0m: name 'fantasy_teams' is not defined"
     ]
    }
   ],
   "source": [
    "simulate_draft(rankFrame, fantasy_players, 10)"
   ]
  },
  {
   "cell_type": "code",
   "execution_count": null,
   "metadata": {},
   "outputs": [],
   "source": [
    "def score_roster(score_frame, fantasy_teams):\n",
    "    '''\n",
    "    returns a list of performances for each fantasy player's team\n",
    "    '''\n",
    "    \n",
    "    return fantasy_team_performances"
   ]
  }
 ],
 "metadata": {
  "kernelspec": {
   "display_name": "Python 3",
   "language": "python",
   "name": "python3"
  },
  "language_info": {
   "codemirror_mode": {
    "name": "ipython",
    "version": 3
   },
   "file_extension": ".py",
   "mimetype": "text/x-python",
   "name": "python",
   "nbconvert_exporter": "python",
   "pygments_lexer": "ipython3",
   "version": "3.5.1"
  }
 },
 "nbformat": 4,
 "nbformat_minor": 2
}
