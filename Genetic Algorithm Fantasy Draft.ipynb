{
 "cells": [
  {
   "cell_type": "code",
   "execution_count": 3,
   "metadata": {},
   "outputs": [
    {
     "name": "stdout",
     "output_type": "stream",
     "text": [
      "The autoreload extension is already loaded. To reload it, use:\n",
      "  %reload_ext autoreload\n"
     ]
    }
   ],
   "source": [
    "### header ###\n",
    "__author__ = \"Jenhan Tao\"\n",
    "__license__ = \"MIT\"\n",
    "__email__ = \"jenhantao@gmail.com\"\n",
    "\n",
    "### imports ###\n",
    "import sys # system functions\n",
    "import os # os functions\n",
    "import pandas as pd # for reading data\n",
    "import numpy as np # for numeric operations\n",
    "import matplotlib.pyplot as plt \n",
    "import matplotlib # for visualizing data\n",
    "import scipy # scientific computing\n",
    "import seaborn as sns # for pretty plots\n",
    "\n",
    "### notebook specific configuration ###\n",
    "%matplotlib inline\n",
    "matplotlib.rcParams['savefig.dpi'] = 200\n",
    "sns.set_context('notebook')\n",
    "%load_ext autoreload\n",
    "%autoreload 2"
   ]
  },
  {
   "cell_type": "code",
   "execution_count": 7,
   "metadata": {},
   "outputs": [],
   "source": [
    "# it's bad practice to work within a github repo and also bad practice to have data in a github repo\n",
    "# but it's convenient\n",
    "# change working directory to github repo\n",
    "working_directory = '/gpfs/data01/glasslab/home/jtao/side_projects/fantasy_football_genetic_algorithm_draft/'\n",
    "os.chdir(working_directory)"
   ]
  },
  {
   "cell_type": "markdown",
   "metadata": {},
   "source": [
    "### Read in rankings"
   ]
  },
  {
   "cell_type": "code",
   "execution_count": 17,
   "metadata": {},
   "outputs": [],
   "source": [
    "# year_rankFrame_dict = {} # {year:DataFrame}\n",
    "# for f in os.listdir(working_directory + '/rankings_ffc_standard'):\n",
    "#     json_path = working_directory + '/rankings_ffc_standard/' + f\n",
    "#     ranks = pd.read_json(json_path, typ='series')\n",
    "#     adp_list = [x['adp'] for x in ranks['players']]\n",
    "#     name_list = [x['name'] for x in ranks['players']]\n",
    "#     position_list = [x['position'] for x in ranks['players']]\n",
    "    \n",
    "#     year = f.split('_')[-1].replace('.json','')\n",
    "    \n",
    "#     rankFrame = pd.DataFrame({'ADP':adp_list, 'Position':position_list, 'Name':name_list})\n",
    "#     year_rankFrame_dict[year] = rankFrame\n",
    "    \n"
   ]
  },
  {
   "cell_type": "code",
   "execution_count": 168,
   "metadata": {},
   "outputs": [],
   "source": [
    "year_rankFrame_dict = {} # {year:DataFrame}\n",
    "for f in os.listdir(working_directory + '/rankings_mfl_standard'):\n",
    "    csv_path = working_directory + '/rankings_mfl_standard/' + f\n",
    "    rankFrame = pd.read_csv(csv_path, sep=',')\n",
    "    rankFrame['POSITION'] = [x.split(' ')[-1].replace('*','') for x in rankFrame['PLAYER'].values]\n",
    "    rankFrame['NAME'] = [' '.join(x.split(', ')[1].split(' ')[:-2]) + ' ' + x.split(', ')[0].replace(',','') for x in rankFrame['PLAYER'].values]\n",
    "    \n",
    "    rankFrame = rankFrame[rankFrame['POSITION'].isin(['Def', 'PK', 'QB', 'RB', 'TE', 'WR'])]\n",
    "    rankFrame['ADP SCORE'] = rankFrame['AVG. PICK'].max() - rankFrame['AVG. PICK'].values\n",
    "    year = f.split('_')[-1].replace('.csv','')\n",
    "    \n",
    "    year_rankFrame_dict[year] = rankFrame\n",
    "    \n"
   ]
  },
  {
   "cell_type": "markdown",
   "metadata": {},
   "source": [
    "### Read in season results"
   ]
  },
  {
   "cell_type": "code",
   "execution_count": 123,
   "metadata": {},
   "outputs": [],
   "source": [
    "year_scoreFrame_dict = {} # {year:DataFrame}\n",
    "for f in os.listdir(working_directory + '/scoring_standard'):\n",
    "    score_path = working_directory + '/scoring_standard/' + f\n",
    "    scoreFrame = pd.read_csv(score_path, sep=',')\n",
    "    year = f.split('_')[-1].replace('.csv','')\n",
    "    year_scoreFrame_dict[year] = scoreFrame\n",
    "    \n"
   ]
  },
  {
   "cell_type": "code",
   "execution_count": 124,
   "metadata": {},
   "outputs": [
    {
     "data": {
      "text/html": [
       "<div>\n",
       "<style>\n",
       "    .dataframe thead tr:only-child th {\n",
       "        text-align: right;\n",
       "    }\n",
       "\n",
       "    .dataframe thead th {\n",
       "        text-align: left;\n",
       "    }\n",
       "\n",
       "    .dataframe tbody tr th {\n",
       "        vertical-align: top;\n",
       "    }\n",
       "</style>\n",
       "<table border=\"1\" class=\"dataframe\">\n",
       "  <thead>\n",
       "    <tr style=\"text-align: right;\">\n",
       "      <th></th>\n",
       "      <th>Player</th>\n",
       "      <th>Points</th>\n",
       "    </tr>\n",
       "  </thead>\n",
       "  <tbody>\n",
       "    <tr>\n",
       "      <th>0</th>\n",
       "      <td>Stephen Gostkowski</td>\n",
       "      <td>159</td>\n",
       "    </tr>\n",
       "    <tr>\n",
       "      <th>1</th>\n",
       "      <td>Graham Gano</td>\n",
       "      <td>150</td>\n",
       "    </tr>\n",
       "    <tr>\n",
       "      <th>2</th>\n",
       "      <td>Blair Walsh</td>\n",
       "      <td>147</td>\n",
       "    </tr>\n",
       "    <tr>\n",
       "      <th>3</th>\n",
       "      <td>Robbie Gould</td>\n",
       "      <td>141</td>\n",
       "    </tr>\n",
       "    <tr>\n",
       "      <th>4</th>\n",
       "      <td>Josh Brown</td>\n",
       "      <td>140</td>\n",
       "    </tr>\n",
       "  </tbody>\n",
       "</table>\n",
       "</div>"
      ],
      "text/plain": [
       "               Player  Points\n",
       "0  Stephen Gostkowski     159\n",
       "1         Graham Gano     150\n",
       "2         Blair Walsh     147\n",
       "3        Robbie Gould     141\n",
       "4          Josh Brown     140"
      ]
     },
     "execution_count": 124,
     "metadata": {},
     "output_type": "execute_result"
    }
   ],
   "source": [
    "scoreFrame.head()"
   ]
  },
  {
   "cell_type": "markdown",
   "metadata": {},
   "source": [
    "### Create Players"
   ]
  },
  {
   "cell_type": "code",
   "execution_count": 195,
   "metadata": {},
   "outputs": [],
   "source": [
    "position_index_dict = dict(zip(sorted(rankFrame['POSITION'].unique()), \n",
    "                               range(len(rankFrame['POSITION'].unique()))))\n",
    "index_position_dict = dict(zip(range(len(rankFrame['POSITION'].unique())),\n",
    "                                sorted(rankFrame['POSITION'].unique()), \n",
    "                               ))"
   ]
  },
  {
   "cell_type": "code",
   "execution_count": 196,
   "metadata": {},
   "outputs": [
    {
     "data": {
      "text/plain": [
       "{'Def': 0, 'PK': 1, 'QB': 2, 'RB': 3, 'TE': 4, 'WR': 5}"
      ]
     },
     "execution_count": 196,
     "metadata": {},
     "output_type": "execute_result"
    }
   ],
   "source": [
    "position_index_dict # gives the position and the corresponding index"
   ]
  },
  {
   "cell_type": "code",
   "execution_count": 197,
   "metadata": {},
   "outputs": [
    {
     "data": {
      "text/plain": [
       "{0: 'Def', 1: 'PK', 2: 'QB', 3: 'RB', 4: 'TE', 5: 'WR'}"
      ]
     },
     "execution_count": 197,
     "metadata": {},
     "output_type": "execute_result"
    }
   ],
   "source": [
    "index_position_dict # gives the index and the corresponding index"
   ]
  },
  {
   "cell_type": "code",
   "execution_count": 128,
   "metadata": {},
   "outputs": [],
   "source": [
    "def create_new_players(num_players, num_rounds):\n",
    "    '''\n",
    "    inputs: number of players and rounds\n",
    "    outputs: list of fantasy players\n",
    "    '''\n",
    "    num_positions = 6 # number of positions\n",
    "    player_list = []\n",
    "    for player_number in range(num_players):\n",
    "        new_player = []\n",
    "        for round_number in range(num_rounds):\n",
    "            weights = np.random.random(num_positions) # initialize random weights\n",
    "            normed_weights = weights/np.sum(weights) # normalize so weights sum to 1\n",
    "            new_player.append(normed_weights)\n",
    "    \n",
    "        player_list.append((new_player))\n",
    "    return np.array(player_list)"
   ]
  },
  {
   "cell_type": "code",
   "execution_count": 151,
   "metadata": {},
   "outputs": [
    {
     "data": {
      "text/plain": [
       "9"
      ]
     },
     "execution_count": 151,
     "metadata": {},
     "output_type": "execute_result"
    }
   ],
   "source": [
    "len(rankFrame['POSITION'].unique()) # number of positions"
   ]
  },
  {
   "cell_type": "code",
   "execution_count": 40,
   "metadata": {},
   "outputs": [],
   "source": [
    "fantasy_players = create_new_players(12, 10)"
   ]
  },
  {
   "cell_type": "code",
   "execution_count": 41,
   "metadata": {},
   "outputs": [
    {
     "data": {
      "text/plain": [
       "(12, 10, 6)"
      ]
     },
     "execution_count": 41,
     "metadata": {},
     "output_type": "execute_result"
    }
   ],
   "source": [
    "fantasy_players.shape # first index gives the player\n",
    "                      # second index gives the round\n",
    "                      # third index gives the position \n"
   ]
  },
  {
   "cell_type": "code",
   "execution_count": null,
   "metadata": {},
   "outputs": [],
   "source": [
    "fantasy_players[0,0,0] #gives the importance for player 1 in the first round for a defense \n",
    "fantasy_players[0,0,1] #gives the importance for player 1 in the first round for a place kicker (PK)\n",
    "fantasy_players[8,3,2] #gives the importance for player 9 in the fourth round for a QB"
   ]
  },
  {
   "cell_type": "code",
   "execution_count": 53,
   "metadata": {},
   "outputs": [
    {
     "data": {
      "text/plain": [
       "(12, 10, 6)"
      ]
     },
     "execution_count": 53,
     "metadata": {},
     "output_type": "execute_result"
    }
   ],
   "source": [
    "fantasy_players.shape"
   ]
  },
  {
   "cell_type": "markdown",
   "metadata": {},
   "source": [
    "### Run Simulation"
   ]
  },
  {
   "cell_type": "code",
   "execution_count": 179,
   "metadata": {},
   "outputs": [],
   "source": [
    "rankFrame = year_rankFrame_dict['2017']\n",
    "\n",
    "scoreFrame = year_scoreFrame_dict['2017']"
   ]
  },
  {
   "cell_type": "code",
   "execution_count": 180,
   "metadata": {},
   "outputs": [
    {
     "data": {
      "text/plain": [
       "(340, 10)"
      ]
     },
     "execution_count": 180,
     "metadata": {},
     "output_type": "execute_result"
    }
   ],
   "source": [
    "rankFrame.shape"
   ]
  },
  {
   "cell_type": "code",
   "execution_count": 181,
   "metadata": {
    "scrolled": true
   },
   "outputs": [
    {
     "data": {
      "text/plain": [
       "(461, 2)"
      ]
     },
     "execution_count": 181,
     "metadata": {},
     "output_type": "execute_result"
    }
   ],
   "source": [
    "scoreFrame.shape"
   ]
  },
  {
   "cell_type": "code",
   "execution_count": 182,
   "metadata": {},
   "outputs": [],
   "source": [
    "score_players = set (scoreFrame['Player'].values)"
   ]
  },
  {
   "cell_type": "code",
   "execution_count": 183,
   "metadata": {},
   "outputs": [],
   "source": [
    "rank_players = set(rankFrame['NAME'].values)"
   ]
  },
  {
   "cell_type": "code",
   "execution_count": 184,
   "metadata": {},
   "outputs": [
    {
     "data": {
      "text/plain": [
       "186"
      ]
     },
     "execution_count": 184,
     "metadata": {},
     "output_type": "execute_result"
    }
   ],
   "source": [
    "len(score_players - rank_players)"
   ]
  },
  {
   "cell_type": "code",
   "execution_count": 185,
   "metadata": {},
   "outputs": [
    {
     "data": {
      "text/plain": [
       "65"
      ]
     },
     "execution_count": 185,
     "metadata": {},
     "output_type": "execute_result"
    }
   ],
   "source": [
    "len(rank_players-score_players)"
   ]
  },
  {
   "cell_type": "code",
   "execution_count": 171,
   "metadata": {},
   "outputs": [
    {
     "data": {
      "text/html": [
       "<div>\n",
       "<style>\n",
       "    .dataframe thead tr:only-child th {\n",
       "        text-align: right;\n",
       "    }\n",
       "\n",
       "    .dataframe thead th {\n",
       "        text-align: left;\n",
       "    }\n",
       "\n",
       "    .dataframe tbody tr th {\n",
       "        vertical-align: top;\n",
       "    }\n",
       "</style>\n",
       "<table border=\"1\" class=\"dataframe\">\n",
       "  <thead>\n",
       "    <tr style=\"text-align: right;\">\n",
       "      <th></th>\n",
       "      <th>#</th>\n",
       "      <th>PICK</th>\n",
       "      <th>PLAYER</th>\n",
       "      <th>AVG. PICK</th>\n",
       "      <th>MIN. PICK</th>\n",
       "      <th>MAX. PICK</th>\n",
       "      <th># DRAFTS SELECTED IN</th>\n",
       "      <th>POSITION</th>\n",
       "      <th>NAME</th>\n",
       "      <th>ADP SCORE</th>\n",
       "    </tr>\n",
       "  </thead>\n",
       "  <tbody>\n",
       "    <tr>\n",
       "      <th>0</th>\n",
       "      <td>1</td>\n",
       "      <td>1.01</td>\n",
       "      <td>Foster, Arian HOU RB</td>\n",
       "      <td>2.35</td>\n",
       "      <td>1</td>\n",
       "      <td>110</td>\n",
       "      <td>954</td>\n",
       "      <td>RB</td>\n",
       "      <td>Arian Foster</td>\n",
       "      <td>202.58</td>\n",
       "    </tr>\n",
       "    <tr>\n",
       "      <th>1</th>\n",
       "      <td>2</td>\n",
       "      <td>1.02</td>\n",
       "      <td>Rodgers, Aaron GBP QB</td>\n",
       "      <td>2.65</td>\n",
       "      <td>1</td>\n",
       "      <td>109</td>\n",
       "      <td>930</td>\n",
       "      <td>QB</td>\n",
       "      <td>Aaron Rodgers</td>\n",
       "      <td>202.28</td>\n",
       "    </tr>\n",
       "    <tr>\n",
       "      <th>2</th>\n",
       "      <td>3</td>\n",
       "      <td>1.03</td>\n",
       "      <td>Rice, Ray BAL RB</td>\n",
       "      <td>3.92</td>\n",
       "      <td>1</td>\n",
       "      <td>111</td>\n",
       "      <td>954</td>\n",
       "      <td>RB</td>\n",
       "      <td>Ray Rice</td>\n",
       "      <td>201.01</td>\n",
       "    </tr>\n",
       "    <tr>\n",
       "      <th>3</th>\n",
       "      <td>4</td>\n",
       "      <td>1.04</td>\n",
       "      <td>McCoy, LeSean PHI RB</td>\n",
       "      <td>4.84</td>\n",
       "      <td>1</td>\n",
       "      <td>113</td>\n",
       "      <td>953</td>\n",
       "      <td>RB</td>\n",
       "      <td>LeSean McCoy</td>\n",
       "      <td>200.09</td>\n",
       "    </tr>\n",
       "    <tr>\n",
       "      <th>4</th>\n",
       "      <td>5</td>\n",
       "      <td>1.05</td>\n",
       "      <td>Brady, Tom NEP QB</td>\n",
       "      <td>5.62</td>\n",
       "      <td>1</td>\n",
       "      <td>117</td>\n",
       "      <td>930</td>\n",
       "      <td>QB</td>\n",
       "      <td>Tom Brady</td>\n",
       "      <td>199.31</td>\n",
       "    </tr>\n",
       "  </tbody>\n",
       "</table>\n",
       "</div>"
      ],
      "text/plain": [
       "   #  PICK                 PLAYER  AVG. PICK  MIN. PICK  MAX. PICK  \\\n",
       "0  1  1.01   Foster, Arian HOU RB       2.35          1        110   \n",
       "1  2  1.02  Rodgers, Aaron GBP QB       2.65          1        109   \n",
       "2  3  1.03       Rice, Ray BAL RB       3.92          1        111   \n",
       "3  4  1.04   McCoy, LeSean PHI RB       4.84          1        113   \n",
       "4  5  1.05      Brady, Tom NEP QB       5.62          1        117   \n",
       "\n",
       "   # DRAFTS SELECTED IN POSITION           NAME  ADP SCORE  \n",
       "0                   954       RB   Arian Foster     202.58  \n",
       "1                   930       QB  Aaron Rodgers     202.28  \n",
       "2                   954       RB       Ray Rice     201.01  \n",
       "3                   953       RB   LeSean McCoy     200.09  \n",
       "4                   930       QB      Tom Brady     199.31  "
      ]
     },
     "execution_count": 171,
     "metadata": {},
     "output_type": "execute_result"
    }
   ],
   "source": [
    "rankFrame.head()"
   ]
  },
  {
   "cell_type": "code",
   "execution_count": 172,
   "metadata": {},
   "outputs": [
    {
     "data": {
      "text/html": [
       "<div>\n",
       "<style>\n",
       "    .dataframe thead tr:only-child th {\n",
       "        text-align: right;\n",
       "    }\n",
       "\n",
       "    .dataframe thead th {\n",
       "        text-align: left;\n",
       "    }\n",
       "\n",
       "    .dataframe tbody tr th {\n",
       "        vertical-align: top;\n",
       "    }\n",
       "</style>\n",
       "<table border=\"1\" class=\"dataframe\">\n",
       "  <thead>\n",
       "    <tr style=\"text-align: right;\">\n",
       "      <th></th>\n",
       "      <th>Player</th>\n",
       "      <th>Unnamed: 1</th>\n",
       "    </tr>\n",
       "  </thead>\n",
       "  <tbody>\n",
       "    <tr>\n",
       "      <th>0</th>\n",
       "      <td>Russell Wilson</td>\n",
       "      <td>402</td>\n",
       "    </tr>\n",
       "    <tr>\n",
       "      <th>1</th>\n",
       "      <td>Tom Brady</td>\n",
       "      <td>352</td>\n",
       "    </tr>\n",
       "    <tr>\n",
       "      <th>2</th>\n",
       "      <td>Carson Wentz</td>\n",
       "      <td>338</td>\n",
       "    </tr>\n",
       "    <tr>\n",
       "      <th>3</th>\n",
       "      <td>Alex Smith</td>\n",
       "      <td>334</td>\n",
       "    </tr>\n",
       "    <tr>\n",
       "      <th>4</th>\n",
       "      <td>Cam Newton</td>\n",
       "      <td>331</td>\n",
       "    </tr>\n",
       "  </tbody>\n",
       "</table>\n",
       "</div>"
      ],
      "text/plain": [
       "           Player  Unnamed: 1\n",
       "0  Russell Wilson         402\n",
       "1       Tom Brady         352\n",
       "2    Carson Wentz         338\n",
       "3      Alex Smith         334\n",
       "4      Cam Newton         331"
      ]
     },
     "execution_count": 172,
     "metadata": {},
     "output_type": "execute_result"
    }
   ],
   "source": [
    "scoreFrame.head()"
   ]
  },
  {
   "cell_type": "code",
   "execution_count": 226,
   "metadata": {},
   "outputs": [
    {
     "data": {
      "text/plain": [
       "(12, 10, 6)"
      ]
     },
     "execution_count": 226,
     "metadata": {},
     "output_type": "execute_result"
    }
   ],
   "source": [
    "fantasy_players.shape"
   ]
  },
  {
   "cell_type": "code",
   "execution_count": 227,
   "metadata": {},
   "outputs": [],
   "source": [
    "def simulate_draft(rankFrame, fantasy_players, num_rounds):\n",
    "    '''\n",
    "    returns a list of rosters for each fantasy player\n",
    "    '''\n",
    "    team_rosters = [[] for x in range(fantasy_players.shape[0])]\n",
    "    \n",
    "    for player in \n",
    "    \n",
    "    drafted_players = set()\n",
    "    for draft_round in range(num_rounds):\n",
    "        for player in range(fantasy_players.shape[0]):\n",
    "            # retrieve strategy\n",
    "            round_strategy = fantasy_players[player,draft_round, :]\n",
    "            player_score_tuples = []\n",
    "            # calculate player ranks\n",
    "            for index, row in rankFrame[~rankFrame['NAME'].isin(drafted_players)].iterrows(): \n",
    "                position = row['POSITION']\n",
    "                position_weight = round_strategy[position_index_dict[position]]\n",
    "                weighted_player_score = position_weight * float(row['ADP SCORE'])\n",
    "                player_score_tuples.append((row['NAME'], weighted_player_score))\n",
    "            \n",
    "            # draft player\n",
    "            player_score_tuples.sort(key = lambda x: x[1], reverse=True)\n",
    "            drafted_player = player_score_tuples[0][0]\n",
    "            \n",
    "            team_rosters[player].append(drafted_player)\n",
    "            drafted_players.add(drafted_player)\n",
    "    return team_rosters"
   ]
  },
  {
   "cell_type": "code",
   "execution_count": 228,
   "metadata": {},
   "outputs": [],
   "source": [
    "rosters = simulate_draft(rankFrame, fantasy_players, 10)"
   ]
  },
  {
   "cell_type": "code",
   "execution_count": 231,
   "metadata": {
    "scrolled": true
   },
   "outputs": [
    {
     "name": "stdout",
     "output_type": "stream",
     "text": [
      "0 1 0\n",
      "0 2 0\n",
      "0 3 0\n",
      "0 4 0\n",
      "0 5 0\n",
      "0 6 0\n",
      "0 7 0\n",
      "0 8 0\n",
      "0 9 0\n",
      "0 10 0\n",
      "0 11 0\n",
      "1 2 0\n",
      "1 3 0\n",
      "1 4 0\n",
      "1 5 0\n",
      "1 6 0\n",
      "1 7 0\n",
      "1 8 0\n",
      "1 9 0\n",
      "1 10 0\n",
      "1 11 0\n",
      "2 3 0\n",
      "2 4 0\n",
      "2 5 0\n",
      "2 6 0\n",
      "2 7 0\n",
      "2 8 0\n",
      "2 9 0\n",
      "2 10 0\n",
      "2 11 0\n",
      "3 4 0\n",
      "3 5 0\n",
      "3 6 0\n",
      "3 7 0\n",
      "3 8 0\n",
      "3 9 0\n",
      "3 10 0\n",
      "3 11 0\n",
      "4 5 0\n",
      "4 6 0\n",
      "4 7 0\n",
      "4 8 0\n",
      "4 9 0\n",
      "4 10 0\n",
      "4 11 0\n",
      "5 6 0\n",
      "5 7 0\n",
      "5 8 0\n",
      "5 9 0\n",
      "5 10 0\n",
      "5 11 0\n",
      "6 7 0\n",
      "6 8 0\n",
      "6 9 0\n",
      "6 10 0\n",
      "6 11 0\n",
      "7 8 0\n",
      "7 9 0\n",
      "7 10 0\n",
      "7 11 0\n",
      "8 9 0\n",
      "8 10 0\n",
      "8 11 0\n",
      "9 10 0\n",
      "9 11 0\n",
      "10 11 0\n"
     ]
    }
   ],
   "source": [
    "#  check rosters don't overlap\n",
    "for i in range(len(rosters)-1):\n",
    "    for j in range(i+1, len(rosters)):\n",
    "        team1 = rosters[i]\n",
    "        team2 = rosters[j]\n",
    "        print(i, j, len(set(team1).intersection(set(team2))))"
   ]
  },
  {
   "cell_type": "code",
   "execution_count": 209,
   "metadata": {},
   "outputs": [],
   "source": [
    "round_strategy = fantasy_players[0,0, :]"
   ]
  },
  {
   "cell_type": "code",
   "execution_count": 210,
   "metadata": {},
   "outputs": [
    {
     "data": {
      "text/plain": [
       "array([0.12450951, 0.24221658, 0.22053774, 0.201553  , 0.10757643,\n",
       "       0.10360674])"
      ]
     },
     "execution_count": 210,
     "metadata": {},
     "output_type": "execute_result"
    }
   ],
   "source": [
    "round_strategy"
   ]
  },
  {
   "cell_type": "code",
   "execution_count": 199,
   "metadata": {},
   "outputs": [
    {
     "data": {
      "text/plain": [
       "{'Def': 0, 'PK': 1, 'QB': 2, 'RB': 3, 'TE': 4, 'WR': 5}"
      ]
     },
     "execution_count": 199,
     "metadata": {},
     "output_type": "execute_result"
    }
   ],
   "source": [
    "position_index_dict"
   ]
  },
  {
   "cell_type": "code",
   "execution_count": 204,
   "metadata": {},
   "outputs": [],
   "source": [
    "for index, row in rankFrame[~rankFrame['NAME'].isin(set())].iterrows():\n",
    "    break"
   ]
  },
  {
   "cell_type": "code",
   "execution_count": 211,
   "metadata": {},
   "outputs": [
    {
     "data": {
      "text/plain": [
       "0.20155300215822272"
      ]
     },
     "execution_count": 211,
     "metadata": {},
     "output_type": "execute_result"
    }
   ],
   "source": [
    "round_strategy[position_index_dict[row['POSITION']]]"
   ]
  },
  {
   "cell_type": "code",
   "execution_count": null,
   "metadata": {},
   "outputs": [],
   "source": [
    "def score_roster(score_frame, fantasy_teams):\n",
    "    '''\n",
    "    returns a list of performances for each fantasy player's team\n",
    "    '''\n",
    "    \n",
    "    return fantasy_team_performances"
   ]
  }
 ],
 "metadata": {
  "kernelspec": {
   "display_name": "Python 3",
   "language": "python",
   "name": "python3"
  },
  "language_info": {
   "codemirror_mode": {
    "name": "ipython",
    "version": 3
   },
   "file_extension": ".py",
   "mimetype": "text/x-python",
   "name": "python",
   "nbconvert_exporter": "python",
   "pygments_lexer": "ipython3",
   "version": "3.5.1"
  }
 },
 "nbformat": 4,
 "nbformat_minor": 2
}
